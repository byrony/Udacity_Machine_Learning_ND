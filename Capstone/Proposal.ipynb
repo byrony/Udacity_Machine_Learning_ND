{
 "cells": [
  {
   "cell_type": "markdown",
   "metadata": {},
   "source": [
    "## Udacity Machine Learning Nanodegree\n",
    "## Allstate Insurance Claims Prediction -- Capstone Proposal\n",
    "\n",
    "Xiang Cao 10-10-2017"
   ]
  },
  {
   "cell_type": "markdown",
   "metadata": {},
   "source": [
    "## Domain Background\n",
    "\n",
    "As a important domain of Machine Learning, supervised learning has a wide variety of applications in different areas including computer vision, natural language processing, recommendation system, credit risk prediction, etc. \n",
    "\n",
    "The essence of Machine Learning is to learn hidden pattern underneath data, data could be unstructured like image, language, or tabular data like stock trading data, customer behavior, etc., or a mixture of them. According to the pattern / knowledge it learnt, we can customize our product and service to people more accurately and efficiently. \n",
    "\n",
    "In finance/insurance area, there are large amount of user data, with which we can customize finance/insurance product to increase company revenue and improve user experience. Machine Learning provides promising methods to do this.\n",
    "\n",
    "There are multiple machine learning competitions of this domain on Kaggle. Here are some examples.\n",
    "\n",
    "- [Give Me Some Credit](https://www.kaggle.com/c/GiveMeSomeCredit/data). Build models to predict the probability of default, to determine whether or not a loan should be granted. This is a classification problem.\n",
    "- [Allstate Claim Prediction Challenge](https://www.kaggle.com/c/ClaimPredictionChallenge/data). An earlier competition held by Allstate. Predict bodily injury liability insurance claim payments based on the characteristics of the insured's vehicle. This is a regression problem.\n",
    "\n",
    "## Problem Statement\n",
    "\n",
    "Allstate held a competition on Kaggle, which aims to develop automated method to predict insurance claims cost, and hence severity. The data includes the historical claims cost and customer information for each claim. Each record contains both cateorical and continuous features, and the target is the numerical cost of the claim which is continuous. Thus this is clearly an regression program.\n",
    "\n",
    "In this project, I am going to predict claim cost using different machine learning models (mainly Gradient boosting and Neural Network). \n",
    "\n",
    "## Datasets and Inputs\n",
    "\n",
    "The datasets are provided by Allstate on Kaggle. It's open to public [here](https://www.kaggle.com/c/allstate-claims-severity/data).\n",
    "\n",
    "The training set has 188318 records and 132 columns, including unique ID, 116 categorical features, 14 continuous features, and target. The target is a continuous variable which indicates the loss of each claim. All the features are anonymous. The testing set has 125546 rows and columns except target. \n",
    "\n",
    "In this project I split training set into training and validation to train and evalution models. 5-fold cross validation will be implemented of each model. That is, for each fold, 80% of the data is used as training set, the rest 20% is used as validation set.\n",
    "\n",
    "## Solution Statement\n",
    "\n",
    "Data pre-processing is done first, including checking missing values, data transformation, etc. Then feature engineering, including check the interaction of features, two-way interactions, and some three-way interactions. Multiple supervised models are implemented in this project, including regression, gradient boosting tree, neural network, etc.\n",
    "\n",
    "\n",
    "## Benchmark Model\n",
    "\n",
    "For each model with default or empirical parameter, we would get benchmark for each of them. We tweak the models by parameter tuning and ensemble. In this project, I choose glmnet as benchmark model. Compared to benchmark, we could know how much increase these new models got. Both the benchmark model and new models will take 5-folds cross validation.\n",
    "\n",
    "\n",
    "## Evaluation Metrics\n",
    "\n",
    "The cost need be predict is continuous variable. For a regression problem, we usually use Mean Square Error(MSE) or Mean Absolute Error(MAE) as metric. According to the competition evalution criteria, MAE is used. We are going to build models to minimize MAE.\n",
    "\n",
    "## Project Design\n",
    "\n",
    "The project mainly has the workflow:\n",
    "\n",
    "- Expolorary data analysis. Check the distribution of continuous and categorical variables, check the correction between continutous variables.\n",
    "\n",
    "- Feature engineering. Create features interactions, select the good ones with the original features to train models. Also, we may transform the target, or even customize the cost function.\n",
    "\n",
    "- Split the data into training set and validation set (cross validation). Building machine learning models, tuning parameters. \n",
    "    - The model includes regression, glmnet, gradient boosting tree, neural network, etc.\n",
    "    \n",
    "- Compare and pick the best model for each method. Build two layer stacking model. These single models consititute the first layor of the stacking model. The second layer chooses either Gradient boosing or Keras nerual network."
   ]
  }
 ],
 "metadata": {
  "kernelspec": {
   "display_name": "Python 3",
   "language": "python",
   "name": "python3"
  },
  "language_info": {
   "codemirror_mode": {
    "name": "ipython",
    "version": 3
   },
   "file_extension": ".py",
   "mimetype": "text/x-python",
   "name": "python",
   "nbconvert_exporter": "python",
   "pygments_lexer": "ipython3",
   "version": "3.6.0"
  }
 },
 "nbformat": 4,
 "nbformat_minor": 2
}
